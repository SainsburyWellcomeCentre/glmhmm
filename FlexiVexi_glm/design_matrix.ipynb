{
 "cells": [
  {
   "cell_type": "markdown",
   "metadata": {},
   "source": [
    "# Building the design matrix for the GLM on FlexiVexi data "
   ]
  },
  {
   "cell_type": "markdown",
   "metadata": {},
   "source": [
    "We want a series of variables:\n",
    "- Cue identity: 0 or 1\n",
    "- History  of last 5 choices\n",
    "- Last rewarded choice\n",
    "- Distance to 0\n",
    "- Distance to 1\n",
    "\n",
    "They will form a matrix of variables x trial types"
   ]
  },
  {
   "cell_type": "markdown",
   "metadata": {},
   "source": [
    "## Imports"
   ]
  },
  {
   "cell_type": "code",
   "execution_count": null,
   "metadata": {},
   "outputs": [],
   "source": [
    "import pandas as pd\n",
    "import numpy as np\n",
    "import matplotlib.pyplot as plt\n",
    "import GoalSelection.training_metrics as tm\n",
    "from pathlib import Path\n",
    "import glmhmm.glm as glm\n",
    "import FlexiVexi_glm.design_matrix as dm"
   ]
  },
  {
   "cell_type": "markdown",
   "metadata": {},
   "source": [
    "## Data extraction"
   ]
  },
  {
   "cell_type": "code",
   "execution_count": null,
   "metadata": {},
   "outputs": [],
   "source": [
    "DATA = Path('/Volumes/sjones/projects/FlexiVexi/behavioural_data')\n",
    "MOUSE = 'FNT103'\n",
    "DATE = '2024-08-02'\n",
    "PORTS = [[0.6, 0.35], \n",
    "         [-0.6, 0.35], \n",
    "         [0, -0.7]]\n",
    "\n",
    "exp_data = tm.build_exp_data(MOUSE, DATE)"
   ]
  },
  {
   "cell_type": "code",
   "execution_count": null,
   "metadata": {},
   "outputs": [],
   "source": [
    "exp_data"
   ]
  },
  {
   "cell_type": "markdown",
   "metadata": {},
   "source": [
    "We will: \n",
    "- Get rid of aborted trials\n",
    "- Get rid of 5 first trials\n",
    "- Assume that last-5-trials can be computing ignoring aborted trials. This  is  even though there are prolongued periods of time w/o many trials. "
   ]
  },
  {
   "cell_type": "code",
   "execution_count": null,
   "metadata": {},
   "outputs": [],
   "source": [
    "def filter_data(exp_data):\n",
    "    '''\n",
    "    We will: \n",
    "        - Get rid of aborted trials\n",
    "        - Get rid of 5 first trials\n",
    "        - Assume that last-5-trials can be computing ignoring \n",
    "        aborted trials. This  is  even though there are prolongued periods of time w/o many trials. \n",
    "    '''\n",
    "    filtered_data = exp_data[~exp_data['TrialCompletionCode'].str.startswith('Aborted')]\n",
    "    return  filtered_data\n",
    "\n",
    "filtered_data = filter_data(exp_data)"
   ]
  },
  {
   "cell_type": "markdown",
   "metadata": {},
   "source": [
    "And let's look at the variables one by one"
   ]
  },
  {
   "cell_type": "code",
   "execution_count": null,
   "metadata": {},
   "outputs": [],
   "source": [
    "def get_cue(row):\n",
    "    if row['AudioCueIdentity']==10:\n",
    "        cue = 1\n",
    "    elif row['AudioCueIdentity']==14:\n",
    "        cue = 0\n",
    "    else:\n",
    "        print('UNRECOGNISED SOUND CUE')\n",
    "        cue  =  None\n",
    "    return  cue\n",
    "\n",
    "def distance_to_port(row, port):\n",
    "    port = np.array(PORTS[port])\n",
    "    dot = np.array([row['DotXLocation'], row['DotYLocation']])\n",
    "    v_distance = port-dot\n",
    "    distance = np.sqrt((v_distance[0]**2)+(v_distance[1]**2))\n",
    "    \n",
    "    return distance\n",
    "\n",
    "def get_last_rewarded(iloc, filtered_data):\n",
    "    if iloc <= 0 or iloc > len(filtered_data):\n",
    "        raise ValueError(\"Invalid iloc value\")\n",
    "\n",
    "    new_row = filtered_data.iloc[iloc-1]\n",
    "    jump_back = 1\n",
    "    \n",
    "    while not new_row['TrialCompletionCode'].startswith('Rewarded'):\n",
    "        \n",
    "        jump_back += 1\n",
    "        if iloc - jump_back < 0:\n",
    "            raise ValueError(\"No previous 'Rewarded' TrialCompletionCode found\")\n",
    "        new_row = filtered_data.iloc[iloc-jump_back]\n",
    "    \n",
    "    last_rew = new_row['TrialCompletionCode'][-1]\n",
    "    return last_rew\n",
    "\n",
    "def get_last(position, iloc, filtered_data):\n",
    "    new_row = filtered_data.iloc[iloc-position]\n",
    "    past_choice= new_row['TrialCompletionCode'][-1]\n",
    "    return past_choice\n",
    "\n",
    "\n"
   ]
  },
  {
   "cell_type": "code",
   "execution_count": null,
   "metadata": {},
   "outputs": [],
   "source": [
    "def build_design_matrix(filtered_data):\n",
    "    trial=[]\n",
    "    cue  =  []\n",
    "    last_rewarded = []\n",
    "    last_1 = []\n",
    "    last_2 = []\n",
    "    last_3 = []\n",
    "    last_4 = []\n",
    "    last_5 = []\n",
    "    distance_0 = []\n",
    "    distance_1 = []\n",
    "    iloc = 4 #to generate a purely positional index,not the pandas index,so as to look\n",
    "    #at last rows\n",
    "\n",
    "    output_vector = [] #For the actual choice in each trial\n",
    "\n",
    "    for index, row in filtered_data.iloc[5:].iterrows():\n",
    "        iloc+=1\n",
    "        #print(f'iloc: {iloc}')\n",
    "\n",
    "        trial.append(row['TrialNumber'])\n",
    "        cue.append(get_cue(row))\n",
    "        distance_0.append(distance_to_port(row, 0))\n",
    "        distance_1.append(distance_to_port(row, 1))\n",
    "        last_rewarded.append(get_last_rewarded(iloc, filtered_data))\n",
    "        last_1.append(get_last(1, iloc, filtered_data))\n",
    "        last_2.append(get_last(2, iloc, filtered_data))\n",
    "        last_3.append(get_last(3, iloc, filtered_data))\n",
    "        last_4.append(get_last(4, iloc, filtered_data))\n",
    "        last_5.append(get_last(5, iloc, filtered_data))\n",
    "\n",
    "        output_vector.append(row['TrialCompletionCode'][-1])\n",
    "\n",
    "    design_matrix = {\n",
    "        'trial': trial,\n",
    "        'cue': cue,\n",
    "        'distance_0': distance_0,\n",
    "        'distance_1': distance_1,\n",
    "        'last_rewarded': last_rewarded,\n",
    "        'last_1': last_1,\n",
    "        'last_2': last_2,\n",
    "        'last_3': last_3,\n",
    "        'last_4': last_4,\n",
    "        'last_5': last_5\n",
    "    }\n",
    "\n",
    "    design = pd.DataFrame(design_matrix)\n",
    "    y = np.array(output_vector).astype(float)\n",
    "\n",
    "    return design, y\n",
    "\n",
    "design,y = build_design_matrix(filtered_data)"
   ]
  },
  {
   "cell_type": "code",
   "execution_count": null,
   "metadata": {},
   "outputs": [],
   "source": [
    "design"
   ]
  },
  {
   "cell_type": "markdown",
   "metadata": {},
   "source": [
    "## Fitting their GLM object\n",
    "\n",
    "n: number of data/time points\n",
    "d: number of features (inputs to design matrix)\n",
    "c: number of classes (possible observations)\n",
    "x: design matrix (nxm)\n",
    "y: observations (nxc)\n",
    "w: weights mapping x to y (mxc or mx1)\n",
    "\n",
    "Therefore, our design matrix is timepoints x features"
   ]
  },
  {
   "cell_type": "code",
   "execution_count": null,
   "metadata": {},
   "outputs": [],
   "source": [
    "def build_GLM(design, y):\n",
    "    n = len(design)\n",
    "    d = len(design.columns)-1\n",
    "    c = 2\n",
    "\n",
    "    GLM = glm.GLM(n, d, c) \n",
    "\n",
    "    return GLM\n",
    "\n",
    "GLM  = build_GLM(design, y)"
   ]
  },
  {
   "cell_type": "code",
   "execution_count": null,
   "metadata": {},
   "outputs": [],
   "source": [
    "GLM.observations"
   ]
  },
  {
   "cell_type": "code",
   "execution_count": null,
   "metadata": {},
   "outputs": [],
   "source": [
    "w_init =  GLM.init_weights()"
   ]
  },
  {
   "cell_type": "code",
   "execution_count": null,
   "metadata": {},
   "outputs": [],
   "source": [
    "def format_matrix(design):\n",
    "    X = np.array([\n",
    "        design['cue'].tolist(), \n",
    "        design['last_1'].tolist(), \n",
    "        design['last_2'].tolist(), \n",
    "        design['last_3'].tolist(), \n",
    "        design['last_4'].tolist(), \n",
    "        design['last_5'].tolist(), \n",
    "        design['last_rewarded'].tolist(),\n",
    "        design['distance_0'].tolist(),\n",
    "        design['distance_1'].tolist()\n",
    "    ])\n",
    "    X = X.T\n",
    "    X = X.astype(float)\n",
    "\n",
    "    return X\n",
    "\n",
    "X = format_matrix(design)\n",
    "X.shape"
   ]
  },
  {
   "cell_type": "code",
   "execution_count": null,
   "metadata": {},
   "outputs": [],
   "source": [
    "y.shape"
   ]
  },
  {
   "cell_type": "code",
   "execution_count": null,
   "metadata": {},
   "outputs": [],
   "source": [
    "w_init.shape"
   ]
  },
  {
   "cell_type": "code",
   "execution_count": null,
   "metadata": {},
   "outputs": [],
   "source": [
    "w, phi  = GLM.fit(X, w_init, y)"
   ]
  },
  {
   "cell_type": "code",
   "execution_count": null,
   "metadata": {},
   "outputs": [],
   "source": [
    "xlabels = [\n",
    "    'Cue identity',\n",
    "    'History of last choice 1',\n",
    "    'History of last choice 2',\n",
    "    'History of last choice 3',\n",
    "    'History of last choice 4',\n",
    "    'History of last choice 5',\n",
    "    'Last rewarded choice',\n",
    "    'Distance to 0',\n",
    "    'Distance to 1'\n",
    "]\n",
    "\n",
    "fig, ax  = plt.subplots()\n",
    "ax.plot(w)\n",
    "ax.set_xticklabels(xlabels, rotation =  90)\n",
    "ax.plot(xlabels,np.zeros((len(xlabels),1)),'k--')\n",
    "ax.set_xticks(np.arange(0,len(xlabels)))"
   ]
  },
  {
   "cell_type": "markdown",
   "metadata": {},
   "source": [
    "## Many sessions\n",
    "\n",
    "Concatenate design matrices for many different sessions"
   ]
  },
  {
   "cell_type": "code",
   "execution_count": null,
   "metadata": {},
   "outputs": [],
   "source": [
    "def design_matrix_per_mouse(mouse, start_session = -10):\n",
    "\n",
    "    date_dirs = tm.get_date_dirs(mouse)\n",
    "    date_dirs = date_dirs[start_session:]\n",
    "\n",
    "    design_list  = []\n",
    "    output_list =  []\n",
    "    date_list = []\n",
    "    trial_list = []\n",
    "\n",
    "    for date in date_dirs:\n",
    "        print(date)\n",
    "        #build the matrix\n",
    "        exp_data = tm.build_exp_data(MOUSE, date)\n",
    "        filtered_data = dm.filter_data(exp_data)\n",
    "        design, y = dm.build_design_matrix(filtered_data)\n",
    "        design_list.append(design)\n",
    "        output_list.append(y)\n",
    "        date_list.append([date]*len(design))\n",
    "        trial_list.append(design['trial'])\n",
    "\n",
    "    design_concat = pd.concat(design_list, ignore_index   = True)\n",
    "    y = np.concatenate(output_list)\n",
    "    date_concat = np.concatenate(date_list)\n",
    "    trial_concat =  pd.concat(trial_list, ignore_index = True)\n",
    "\n",
    "    X = dm.format_matrix(design_concat)\n",
    "    row_identity = pd.DataFrame({'date': date_concat, \n",
    "                                'trial': trial_concat})\n",
    "\n",
    "    return X, y, row_identity, design_concat\n",
    "\n",
    "X, y, row_identity, design_concat = dm.design_matrix_per_mouse('FNT103', -19)"
   ]
  },
  {
   "cell_type": "code",
   "execution_count": null,
   "metadata": {},
   "outputs": [],
   "source": [
    "GLM = dm.build_GLM(design_concat, y)\n",
    "w_init =  GLM.init_weights()\n",
    "w, phi  = GLM.fit(X, w_init, y)\n"
   ]
  },
  {
   "cell_type": "code",
   "execution_count": null,
   "metadata": {},
   "outputs": [],
   "source": [
    "bias = True\n",
    "mouse = 'FNT108'\n",
    "\n",
    "def plot_model_weights(mouse, GLM, bias = True):\n",
    "\n",
    "    if bias:\n",
    "\n",
    "        xlabels = [\n",
    "            'Cue identity',\n",
    "            'History of last choice 1',\n",
    "            'History of last choice 2',\n",
    "            'History of last choice 3',\n",
    "            'History of last choice 4',\n",
    "            'History of last choice 5',\n",
    "            'Last rewarded choice',\n",
    "            'Distance to 0',\n",
    "            'Distance to 1',\n",
    "            'bias'\n",
    "        ]\n",
    "    else:\n",
    "            \n",
    "            xlabels = [\n",
    "            'Cue identity',\n",
    "            'History of last choice 1',\n",
    "            'History of last choice 2',\n",
    "            'History of last choice 3',\n",
    "            'History of last choice 4',\n",
    "            'History of last choice 5',\n",
    "            'Last rewarded choice',\n",
    "            'Distance to 0',\n",
    "            'Distance to 1'\n",
    "        ]\n",
    "\n",
    "    fig, ax  = plt.subplots()\n",
    "    ax.set_facecolor('white')\n",
    "    ax.plot(GLM.w)\n",
    "    ax.set_xticklabels(xlabels, rotation =  90)\n",
    "    ax.plot(xlabels,np.zeros((len(xlabels),1)),'k--')\n",
    "    ax.set_xticks(np.arange(0,len(xlabels)))\n",
    "    ax.set_ylabel('Weights')\n",
    "    fig.suptitle(f'GLM weights for {mouse}, {GLM.n} trials')\n",
    "\n",
    "    return fig, ax\n",
    "\n",
    "fig, ax = plot_model_weights('FNT103', GLM)\n"
   ]
  },
  {
   "cell_type": "code",
   "execution_count": null,
   "metadata": {},
   "outputs": [],
   "source": [
    "design_concat"
   ]
  },
  {
   "cell_type": "code",
   "execution_count": null,
   "metadata": {},
   "outputs": [],
   "source": []
  }
 ],
 "metadata": {
  "kernelspec": {
   "display_name": "glmhhmm",
   "language": "python",
   "name": "python3"
  },
  "language_info": {
   "codemirror_mode": {
    "name": "ipython",
    "version": 3
   },
   "file_extension": ".py",
   "mimetype": "text/x-python",
   "name": "python",
   "nbconvert_exporter": "python",
   "pygments_lexer": "ipython3",
   "version": "3.7.3"
  }
 },
 "nbformat": 4,
 "nbformat_minor": 2
}
