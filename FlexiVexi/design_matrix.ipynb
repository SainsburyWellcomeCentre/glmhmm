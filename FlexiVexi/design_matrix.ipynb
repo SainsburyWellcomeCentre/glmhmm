{
 "cells": [
  {
   "cell_type": "markdown",
   "metadata": {},
   "source": [
    "# Building the design matrix for the GLM on FlexiVexi data "
   ]
  },
  {
   "cell_type": "markdown",
   "metadata": {},
   "source": [
    "We want a series of variables:\n",
    "- Cue identity: 0 or 1\n",
    "- History  of last 5 choices\n",
    "- Last rewarded choice\n",
    "- Distance to 0\n",
    "- Distance to 1\n",
    "\n",
    "They will form a matrix of variables x trial types"
   ]
  },
  {
   "cell_type": "code",
   "execution_count": null,
   "metadata": {},
   "outputs": [],
   "source": [
    "import pandas as pd\n",
    "import numpy as np\n",
    "import matplotlib.pyplot as plt\n",
    "import GoalSelection.training_metrics as tm\n",
    "from pathlib import Path"
   ]
  },
  {
   "cell_type": "markdown",
   "metadata": {},
   "source": [
    "## Data extraction"
   ]
  },
  {
   "cell_type": "code",
   "execution_count": null,
   "metadata": {},
   "outputs": [],
   "source": [
    "DATA = Path('/Volumes/sjones/projects/FlexiVexi/behavioural_data')\n",
    "MOUSE = 'FNT103'\n",
    "DATE = '2024-08-02'\n",
    "PORTS = [[0.6, 0.35], \n",
    "         [-0.6, 0.35], \n",
    "         [0, -0.7]]\n",
    "\n",
    "exp_data = tm.build_exp_data(DATA, MOUSE, DATE)"
   ]
  },
  {
   "cell_type": "code",
   "execution_count": null,
   "metadata": {},
   "outputs": [],
   "source": [
    "exp_data"
   ]
  },
  {
   "cell_type": "markdown",
   "metadata": {},
   "source": [
    "We will: \n",
    "- Get rid of aborted trials\n",
    "- Get rid of 5 first trials\n",
    "- Assume that last-5-trials can be computing ignoring aborted trials. This  is  even though there are prolongued periods of time w/o many trials. "
   ]
  },
  {
   "cell_type": "code",
   "execution_count": null,
   "metadata": {},
   "outputs": [],
   "source": [
    "def filter_data(exp_data):\n",
    "    '''\n",
    "    We will: \n",
    "        - Get rid of aborted trials\n",
    "        - Get rid of 5 first trials\n",
    "        - Assume that last-5-trials can be computing ignoring \n",
    "        aborted trials. This  is  even though there are prolongued periods of time w/o many trials. \n",
    "    '''\n",
    "    filtered_data = exp_data[~exp_data['TrialCompletionCode'].str.startswith('Aborted')]\n",
    "    return  filtered_data\n",
    "\n",
    "filtered_data = filter_data(exp_data)"
   ]
  },
  {
   "cell_type": "markdown",
   "metadata": {},
   "source": [
    "And let's look at the variables one by one"
   ]
  },
  {
   "cell_type": "code",
   "execution_count": null,
   "metadata": {},
   "outputs": [],
   "source": [
    "def get_cue(row):\n",
    "    if row['AudioCueIdentity']==10:\n",
    "        cue = 1\n",
    "    elif row['AudioCueIdentity']==14:\n",
    "        cue = 0\n",
    "    else:\n",
    "        print('UNRECOGNISED SOUND CUE')\n",
    "        cue  =  None\n",
    "    return  cue\n",
    "\n",
    "def distance_to_port(row, port):\n",
    "    port = np.array(PORTS[port])\n",
    "    dot = np.array([row['DotXLocation'], row['DotYLocation']])\n",
    "    v_distance = port-dot\n",
    "    distance = np.sqrt((v_distance[0]**2)+(v_distance[1]**2))\n",
    "    \n",
    "    return distance\n",
    "\n",
    "def get_last_rewarded(iloc, filtered_data):\n",
    "    if iloc <= 0 or iloc > len(filtered_data):\n",
    "        raise ValueError(\"Invalid iloc value\")\n",
    "\n",
    "    new_row = filtered_data.iloc[iloc-1]\n",
    "    jump_back = 1\n",
    "    \n",
    "    while not new_row['TrialCompletionCode'].startswith('Rewarded'):\n",
    "        \n",
    "        jump_back += 1\n",
    "        if iloc - jump_back < 0:\n",
    "            raise ValueError(\"No previous 'Rewarded' TrialCompletionCode found\")\n",
    "        new_row = filtered_data.iloc[iloc-jump_back]\n",
    "    \n",
    "    last_rew = new_row['TrialCompletionCode'][-1]\n",
    "    return last_rew\n",
    "\n",
    "def get_last(position, iloc, filtered_data):\n",
    "    new_row = filtered_data.iloc[iloc-position]\n",
    "    past_choice= new_row['TrialCompletionCode'][-1]\n",
    "    return past_choice\n",
    "\n",
    "\n"
   ]
  },
  {
   "cell_type": "code",
   "execution_count": null,
   "metadata": {},
   "outputs": [],
   "source": [
    "def build_design_matrix(filtered_data):\n",
    "    trial=[]\n",
    "    cue  =  []\n",
    "    last_rewarded = []\n",
    "    last_1 = []\n",
    "    last_2 = []\n",
    "    last_3 = []\n",
    "    last_4 = []\n",
    "    last_5 = []\n",
    "    distance_0 = []\n",
    "    distance_1 = []\n",
    "    iloc = 4 #to generate a purely positional index,not the pandas index,so as to look\n",
    "    #at last rows\n",
    "\n",
    "    for index, row in filtered_data.iloc[5:].iterrows():\n",
    "        iloc+=1\n",
    "        #print(f'iloc: {iloc}')\n",
    "\n",
    "        trial.append(row['TrialNumber'])\n",
    "        cue.append(get_cue(row))\n",
    "        distance_0.append(distance_to_port(row, 0))\n",
    "        distance_1.append(distance_to_port(row, 1))\n",
    "        last_rewarded.append(get_last_rewarded(iloc, filtered_data))\n",
    "        last_1.append(get_last(1, iloc, filtered_data))\n",
    "        last_2.append(get_last(2, iloc, filtered_data))\n",
    "        last_3.append(get_last(3, iloc, filtered_data))\n",
    "        last_4.append(get_last(4, iloc, filtered_data))\n",
    "        last_5.append(get_last(5, iloc, filtered_data))\n",
    "\n",
    "    design_matrix = {\n",
    "        'trial': trial,\n",
    "        'cue': cue,\n",
    "        'distance_0': distance_0,\n",
    "        'distance_1': distance_1,\n",
    "        'last_rewarded': last_rewarded,\n",
    "        'last_1': last_1,\n",
    "        'last_2': last_2,\n",
    "        'last_3': last_3,\n",
    "        'last_4': last_4,\n",
    "        'last_5': last_5\n",
    "    }\n",
    "\n",
    "    x = pd.DataFrame(design_matrix)\n",
    "\n",
    "    return x\n",
    "\n",
    "x = build_design_matrix(filtered_data)"
   ]
  },
  {
   "cell_type": "code",
   "execution_count": null,
   "metadata": {},
   "outputs": [],
   "source": []
  }
 ],
 "metadata": {
  "kernelspec": {
   "display_name": "glmhhmm",
   "language": "python",
   "name": "python3"
  },
  "language_info": {
   "codemirror_mode": {
    "name": "ipython",
    "version": 3
   },
   "file_extension": ".py",
   "mimetype": "text/x-python",
   "name": "python",
   "nbconvert_exporter": "python",
   "pygments_lexer": "ipython3",
   "version": "3.7.3"
  }
 },
 "nbformat": 4,
 "nbformat_minor": 2
}
